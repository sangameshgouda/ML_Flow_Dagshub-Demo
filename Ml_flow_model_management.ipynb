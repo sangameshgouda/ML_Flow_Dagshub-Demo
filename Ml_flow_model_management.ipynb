{
 "cells": [
  {
   "cell_type": "code",
   "execution_count": 2,
   "id": "375473c9-0018-4977-b0e1-3e86cf49474a",
   "metadata": {},
   "outputs": [],
   "source": [
    "import pandas as pd\n",
    "import numpy as np\n",
    "import matplotlib.pyplot as plt\n",
    "import seaborn as sns\n",
    "\n",
    "import warnings\n",
    "warnings.filterwarnings(\"ignore\")\n",
    "\n",
    "from sklearn.linear_model import LogisticRegression\n",
    "from sklearn.ensemble import RandomForestClassifier\n",
    "from xgboost import XGBClassifier\n",
    "\n",
    "from sklearn.datasets import make_classification\n",
    "from sklearn.model_selection import train_test_split\n",
    "from sklearn.metrics import classification_report"
   ]
  },
  {
   "cell_type": "code",
   "execution_count": 4,
   "id": "75523e85-341a-433a-aad2-98552370d5ec",
   "metadata": {},
   "outputs": [],
   "source": [
    "x,y=make_classification(n_samples=1000,\n",
    "                        n_features=10,\n",
    "                        n_informative=2,\n",
    "                        n_redundant=8,\n",
    "                        weights=[0.9,0.1],\n",
    "                        flip_y=0,\n",
    "                        random_state=42)"
   ]
  },
  {
   "cell_type": "code",
   "execution_count": 6,
   "id": "483be183-ffe7-491f-af60-bdf0d2cc4b94",
   "metadata": {},
   "outputs": [
    {
     "data": {
      "text/plain": [
       "(array([0, 1]), array([900, 100]))"
      ]
     },
     "execution_count": 6,
     "metadata": {},
     "output_type": "execute_result"
    }
   ],
   "source": [
    "np.unique(y,return_counts=True)"
   ]
  },
  {
   "cell_type": "code",
   "execution_count": 8,
   "id": "e3e36485-7010-4841-939b-3e5871155f2b",
   "metadata": {},
   "outputs": [],
   "source": [
    "#step-2\n",
    "\n",
    "x_train,x_test,y_train,y_test=train_test_split(x,y,random_state=42,test_size=0.3,stratify=y)"
   ]
  },
  {
   "cell_type": "code",
   "execution_count": 10,
   "id": "bacec0c3-f522-4e0a-b21c-d7df8d3d19e4",
   "metadata": {},
   "outputs": [
    {
     "name": "stdout",
     "output_type": "stream",
     "text": [
      "              precision    recall  f1-score   support\n",
      "\n",
      "           0       0.95      0.96      0.95       270\n",
      "           1       0.60      0.50      0.55        30\n",
      "\n",
      "    accuracy                           0.92       300\n",
      "   macro avg       0.77      0.73      0.75       300\n",
      "weighted avg       0.91      0.92      0.91       300\n",
      "\n"
     ]
    }
   ],
   "source": [
    "# model -1 \n",
    "\n",
    "model_log_reg=LogisticRegression(C=1,solver=\"liblinear\")\n",
    "model_log_reg.fit(x_train,y_train)\n",
    "\n",
    "y_pred_model_1=model_log_reg.predict(x_test)\n",
    "\n",
    "report=classification_report(y_test,y_pred_model_1)\n",
    "print(report)"
   ]
  },
  {
   "cell_type": "code",
   "execution_count": 12,
   "id": "a939d171-652d-4a79-bcd6-923379baaf6a",
   "metadata": {},
   "outputs": [
    {
     "name": "stdout",
     "output_type": "stream",
     "text": [
      "              precision    recall  f1-score   support\n",
      "\n",
      "           0       0.97      1.00      0.98       270\n",
      "           1       0.95      0.70      0.81        30\n",
      "\n",
      "    accuracy                           0.97       300\n",
      "   macro avg       0.96      0.85      0.89       300\n",
      "weighted avg       0.97      0.97      0.96       300\n",
      "\n"
     ]
    }
   ],
   "source": [
    "#model-2 \n",
    "params={\"n_estimators\":20,\"max_depth\":3}\n",
    "        \n",
    "model_random_forest=RandomForestClassifier(**params)\n",
    "model_random_forest.fit(x_train,y_train)\n",
    "\n",
    "y_pred_random_forest=model_random_forest.predict(x_test)\n",
    "\n",
    "report_2=classification_report(y_test,y_pred_random_forest)\n",
    "print(report_2)"
   ]
  },
  {
   "cell_type": "code",
   "execution_count": 14,
   "id": "3770f001-1943-4234-9c26-ada165479d99",
   "metadata": {},
   "outputs": [
    {
     "name": "stdout",
     "output_type": "stream",
     "text": [
      "              precision    recall  f1-score   support\n",
      "\n",
      "           0       0.98      1.00      0.99       270\n",
      "           1       0.96      0.80      0.87        30\n",
      "\n",
      "    accuracy                           0.98       300\n",
      "   macro avg       0.97      0.90      0.93       300\n",
      "weighted avg       0.98      0.98      0.98       300\n",
      "\n"
     ]
    }
   ],
   "source": [
    "#model-3\n",
    "\n",
    "xgb_class = XGBClassifier(use_label_encoder=False,eval_metrics=\"logloss\")\n",
    "xgb_class.fit(x_train,y_train)\n",
    "\n",
    "y_pred_xgb=xgb_class.predict(x_test)\n",
    "\n",
    "report=classification_report(y_test,y_pred_xgb)\n",
    "print(report)"
   ]
  },
  {
   "cell_type": "code",
   "execution_count": 16,
   "id": "fd108072-45da-4d79-ac16-bb97e3b6a23c",
   "metadata": {},
   "outputs": [
    {
     "data": {
      "text/plain": [
       "(array([0, 1]), array([619, 619]))"
      ]
     },
     "execution_count": 16,
     "metadata": {},
     "output_type": "execute_result"
    }
   ],
   "source": [
    "#model 4\n",
    "\n",
    "from imblearn.combine import SMOTETomek\n",
    "smt = SMOTETomek(random_state=42)\n",
    "x_train_res,y_train_res=smt.fit_resample(x_train,y_train)\n",
    "\n",
    "np.unique(y_train_res,return_counts=True)"
   ]
  },
  {
   "cell_type": "code",
   "execution_count": 18,
   "id": "0a1af228-9258-4537-8b9b-e8111d3783ca",
   "metadata": {},
   "outputs": [
    {
     "name": "stdout",
     "output_type": "stream",
     "text": [
      "              precision    recall  f1-score   support\n",
      "\n",
      "           0       0.98      0.98      0.98       270\n",
      "           1       0.81      0.83      0.82        30\n",
      "\n",
      "    accuracy                           0.96       300\n",
      "   macro avg       0.89      0.91      0.90       300\n",
      "weighted avg       0.96      0.96      0.96       300\n",
      "\n"
     ]
    }
   ],
   "source": [
    "xgb_class_2 = XGBClassifier(use_label_encoder=False,eval_metrics=\"logloss\")\n",
    "xgb_class_2.fit(x_train_res,y_train_res)\n",
    "\n",
    "y_pred_xgb_2=xgb_class_2.predict(x_test)\n",
    "\n",
    "report=classification_report(y_test,y_pred_xgb_2)\n",
    "print(report)"
   ]
  },
  {
   "cell_type": "code",
   "execution_count": 20,
   "id": "90093037-ca82-4579-80f9-201cbc40fee3",
   "metadata": {},
   "outputs": [],
   "source": [
    "#track experiment flow\n",
    "\n",
    "\n",
    "models = [\n",
    "    (\n",
    "        \"Logistic Regression\", \n",
    "        {\"C\": 1, \"solver\": 'liblinear'},\n",
    "        LogisticRegression(C=1, solver='liblinear'), \n",
    "        (x_train,y_train),\n",
    "        (x_test, y_test)\n",
    "    ),\n",
    "    (\n",
    "        \"Random Forest\", \n",
    "        {\"n_estimators\": 30, \"max_depth\": 3},\n",
    "        RandomForestClassifier(n_estimators=30, max_depth=3), \n",
    "        (x_train, y_train),\n",
    "        (x_test, y_test)\n",
    "    ),\n",
    "    (\n",
    "        \"XGBClassifier\",\n",
    "        {\"use_label_encoder\": False, \"eval_metric\": 'logloss'},\n",
    "        XGBClassifier(use_label_encoder=False, eval_metric='logloss'), \n",
    "        (x_train, y_train),\n",
    "        (x_test, y_test)\n",
    "    ),\n",
    "    (\n",
    "        \"XGBClassifier With SMOTE\",\n",
    "        {\"use_label_encoder\": False, \"eval_metric\": 'logloss'},\n",
    "        XGBClassifier(use_label_encoder=False, eval_metric='logloss'), \n",
    "        (x_train_res, y_train_res),\n",
    "        (x_test, y_test)\n",
    "    )\n",
    "]"
   ]
  },
  {
   "cell_type": "code",
   "execution_count": 22,
   "id": "10e8b3c1-cc53-4cd5-bd53-4a9fe5c1581a",
   "metadata": {},
   "outputs": [],
   "source": [
    "reports=[]\n",
    "\n",
    "for model_name,params,model,train_set,test_set in models:\n",
    "    x_train=train_set[0]\n",
    "    y_train=train_set[1]\n",
    "    x_test=test_set[0]\n",
    "    y_test=test_set[1]\n",
    "    model.set_params(**params)\n",
    "    model.fit(x_train,y_train)\n",
    "    y_pred=model.predict(x_test)\n",
    "    report=classification_report(y_test,y_pred,output_dict=True)\n",
    "    reports.append(report)"
   ]
  },
  {
   "cell_type": "code",
   "execution_count": 24,
   "id": "b810ef11-9116-4414-9a9a-9343b53dce81",
   "metadata": {},
   "outputs": [],
   "source": [
    "import mlflow\n",
    "import mlflow.sklearn\n",
    "import mlflow.xgboost"
   ]
  },
  {
   "cell_type": "code",
   "execution_count": 28,
   "id": "9b398ece-05ce-4d02-8bb2-2a86f2ae56f6",
   "metadata": {},
   "outputs": [
    {
     "data": {
      "text/html": [
       "<pre style=\"white-space:pre;overflow-x:auto;line-height:normal;font-family:Menlo,'DejaVu Sans Mono',consolas,'Courier New',monospace\">Accessing as sangameshgouda1\n",
       "</pre>\n"
      ],
      "text/plain": [
       "Accessing as sangameshgouda1\n"
      ]
     },
     "metadata": {},
     "output_type": "display_data"
    },
    {
     "data": {
      "text/html": [
       "<pre style=\"white-space:pre;overflow-x:auto;line-height:normal;font-family:Menlo,'DejaVu Sans Mono',consolas,'Courier New',monospace\">Initialized MLflow to track repo <span style=\"color: #008000; text-decoration-color: #008000\">\"sangameshgouda1/ML_Flow_Dagshub-Demo\"</span>\n",
       "</pre>\n"
      ],
      "text/plain": [
       "Initialized MLflow to track repo \u001b[32m\"sangameshgouda1/ML_Flow_Dagshub-Demo\"\u001b[0m\n"
      ]
     },
     "metadata": {},
     "output_type": "display_data"
    },
    {
     "data": {
      "text/html": [
       "<pre style=\"white-space:pre;overflow-x:auto;line-height:normal;font-family:Menlo,'DejaVu Sans Mono',consolas,'Courier New',monospace\">Repository sangameshgouda1/ML_Flow_Dagshub-Demo initialized!\n",
       "</pre>\n"
      ],
      "text/plain": [
       "Repository sangameshgouda1/ML_Flow_Dagshub-Demo initialized!\n"
      ]
     },
     "metadata": {},
     "output_type": "display_data"
    }
   ],
   "source": [
    "import dagshub\n",
    "dagshub.init(repo_owner='sangameshgouda1', repo_name='ML_Flow_Dagshub-Demo', mlflow=True)"
   ]
  },
  {
   "cell_type": "code",
   "execution_count": 30,
   "id": "8d4aa740-fc99-47c1-8883-f2372d763f0c",
   "metadata": {},
   "outputs": [
    {
     "name": "stderr",
     "output_type": "stream",
     "text": [
      "2025/05/12 13:53:50 INFO mlflow.tracking.fluent: Experiment with name 'Anomaly Detection' does not exist. Creating a new experiment.\n",
      "\u001b[31m2025/05/12 13:53:56 WARNING mlflow.models.model: Model logged without a signature and input example. Please set `input_example` parameter when logging the model to auto infer the model signature.\u001b[0m\n"
     ]
    },
    {
     "name": "stdout",
     "output_type": "stream",
     "text": [
      "🏃 View run Logistic Regression at: https://dagshub.com/sangameshgouda1/ML_Flow_Dagshub-Demo.mlflow/#/experiments/0/runs/eeb34cd547f04c15a953dcd2b5a32439\n",
      "🧪 View experiment at: https://dagshub.com/sangameshgouda1/ML_Flow_Dagshub-Demo.mlflow/#/experiments/0\n"
     ]
    },
    {
     "name": "stderr",
     "output_type": "stream",
     "text": [
      "\u001b[31m2025/05/12 13:54:06 WARNING mlflow.models.model: Model logged without a signature and input example. Please set `input_example` parameter when logging the model to auto infer the model signature.\u001b[0m\n"
     ]
    },
    {
     "name": "stdout",
     "output_type": "stream",
     "text": [
      "🏃 View run Random Forest at: https://dagshub.com/sangameshgouda1/ML_Flow_Dagshub-Demo.mlflow/#/experiments/0/runs/e12db4b7920b426484134ffc8b0d8991\n",
      "🧪 View experiment at: https://dagshub.com/sangameshgouda1/ML_Flow_Dagshub-Demo.mlflow/#/experiments/0\n"
     ]
    },
    {
     "name": "stderr",
     "output_type": "stream",
     "text": [
      "\u001b[31m2025/05/12 13:54:21 WARNING mlflow.models.model: Model logged without a signature and input example. Please set `input_example` parameter when logging the model to auto infer the model signature.\u001b[0m\n"
     ]
    },
    {
     "name": "stdout",
     "output_type": "stream",
     "text": [
      "🏃 View run XGBClassifier at: https://dagshub.com/sangameshgouda1/ML_Flow_Dagshub-Demo.mlflow/#/experiments/0/runs/0e392348c24745f3a77a995652568289\n",
      "🧪 View experiment at: https://dagshub.com/sangameshgouda1/ML_Flow_Dagshub-Demo.mlflow/#/experiments/0\n"
     ]
    },
    {
     "name": "stderr",
     "output_type": "stream",
     "text": [
      "\u001b[31m2025/05/12 13:54:36 WARNING mlflow.models.model: Model logged without a signature and input example. Please set `input_example` parameter when logging the model to auto infer the model signature.\u001b[0m\n"
     ]
    },
    {
     "name": "stdout",
     "output_type": "stream",
     "text": [
      "🏃 View run XGBClassifier With SMOTE at: https://dagshub.com/sangameshgouda1/ML_Flow_Dagshub-Demo.mlflow/#/experiments/0/runs/d47415ed1955447897270d5cc5608011\n",
      "🧪 View experiment at: https://dagshub.com/sangameshgouda1/ML_Flow_Dagshub-Demo.mlflow/#/experiments/0\n"
     ]
    }
   ],
   "source": [
    "import os\n",
    "\n",
    "os.environ[\"MLFLOW_TRACKING_USERNAME\"]=\"sangameshgouda1\"\n",
    "os.environ[\"MLFLOW_TRACKING_PASSWORD\"]=\"f1afcd1437981c01e4cd5346a111bb7bdd1267d6\"\n",
    "os.environ[\"MLFLOW_TRACKING_URI\"]=\"https://dagshub.com/sangameshgouda1/ML_Flow_Dagshub-Demo.mlflow\"\n",
    "\n",
    "#initalize ml flow \n",
    "\n",
    "mlflow.set_experiment(\"Anomaly Detection\")\n",
    "\n",
    "for i,element in enumerate(models):\n",
    "    model_name=element[0]\n",
    "    params=element[1]\n",
    "    model=element[2]\n",
    "    report=reports[i]\n",
    "    with mlflow.start_run(run_name=model_name):\n",
    "        mlflow.log_params(params)\n",
    "        mlflow.log_metric(\"accuracy\",report[\"accuracy\"])\n",
    "        mlflow.log_metric('recall_class_1', report['1']['recall'])\n",
    "        mlflow.log_metric('recall_class_0', report['0']['recall'])\n",
    "        mlflow.log_metric('f1_score_macro', report['macro avg']['f1-score']) \n",
    "        if \"XGB\" in model_name:\n",
    "            mlflow.xgboost.log_model(model,\"model\")\n",
    "        else:\n",
    "            mlflow.sklearn.log_model(model,\"model\")"
   ]
  },
  {
   "cell_type": "code",
   "execution_count": null,
   "id": "99b06404-7cc8-408b-bc42-debc7b1e96be",
   "metadata": {},
   "outputs": [],
   "source": []
  },
  {
   "cell_type": "code",
   "execution_count": null,
   "id": "3ea8cd32-ea5f-409e-bbf7-bc9e7c557f98",
   "metadata": {},
   "outputs": [],
   "source": []
  },
  {
   "cell_type": "code",
   "execution_count": null,
   "id": "589187e4-c825-46b9-81c0-19982146f1d2",
   "metadata": {},
   "outputs": [],
   "source": []
  },
  {
   "cell_type": "code",
   "execution_count": null,
   "id": "39e33310-9800-4d1c-a080-1e6ffe05e07c",
   "metadata": {},
   "outputs": [],
   "source": []
  },
  {
   "cell_type": "code",
   "execution_count": null,
   "id": "3d3b99c1-fb19-4066-87b2-e8a929452852",
   "metadata": {},
   "outputs": [],
   "source": []
  }
 ],
 "metadata": {
  "kernelspec": {
   "display_name": "Python 3 (ipykernel)",
   "language": "python",
   "name": "python3"
  },
  "language_info": {
   "codemirror_mode": {
    "name": "ipython",
    "version": 3
   },
   "file_extension": ".py",
   "mimetype": "text/x-python",
   "name": "python",
   "nbconvert_exporter": "python",
   "pygments_lexer": "ipython3",
   "version": "3.11.8"
  }
 },
 "nbformat": 4,
 "nbformat_minor": 5
}
